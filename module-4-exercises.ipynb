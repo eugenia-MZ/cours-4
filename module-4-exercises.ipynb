{
 "cells": [
  {
   "cell_type": "markdown",
   "metadata": {},
   "source": [
    "# Module 4: Conditional Structures and Functions\n",
    "\n",
    "Practice using conditional statements and creating functions in Python."
   ]
  },
  {
   "cell_type": "markdown",
   "metadata": {},
   "source": [
    "## Exercise 1: If-Elif-Else Statements\n",
    "\n",
    "Practice using conditional statements to control program flow."
   ]
  },
  {
   "cell_type": "code",
   "execution_count": null,
   "metadata": {},
   "outputs": [],
   "source": [
    "# TODO: Write a program that determines the grade based on a score\n",
    "# (A: 90-100, B: 80-89, C: 70-79, D: 60-69, F: below 60)\n",
    "\n",
    "# TODO: Create a simple calculator that performs different operations\n",
    "# based on user input (addition, subtraction, multiplication, division)\n",
    "\n",
    "# TODO: Write a program that checks if a year is a leap year\n",
    "\n",
    "# TODO: Implement a program that determines the price of a movie ticket\n",
    "# based on age (child, adult, senior) and day of the week\n"
   ]
  },
  {
   "cell_type": "markdown",
   "metadata": {},
   "source": [
    "## Exercise 2: Nested Conditionals\n",
    "\n",
    "Practice using nested conditional statements for more complex decision-making."
   ]
  },
  {
   "cell_type": "code",
   "execution_count": null,
   "metadata": {},
   "outputs": [],
   "source": [
    "# TODO: Create a program that determines if a triangle is equilateral,\n",
    "# isosceles, or scalene based on side lengths\n",
    "\n",
    "# TODO: Implement a simple adventure game where the user makes choices\n",
    "# that lead to different outcomes\n",
    "\n",
    "# TODO: Write a program that determines shipping costs based on\n",
    "# package weight and destination\n"
   ]
  },
  {
   "cell_type": "markdown",
   "metadata": {},
   "source": [
    "## Exercise 3: Basic Functions\n",
    "\n",
    "Practice creating and using simple functions."
   ]
  },
  {
   "cell_type": "code",
   "execution_count": null,
   "metadata": {},
   "outputs": [],
   "source": [
    "# TODO: Create a function that calculates the area of a circle\n",
    "\n",
    "# TODO: Write a function that takes a list of numbers and returns the sum and average\n",
    "\n",
    "# TODO: Implement a function that checks if a number is prime\n",
    "\n",
    "# TODO: Create a function that generates a random password of a given length\n",
    "\n",
    "# Test each function with sample inputs and print the results\n"
   ]
  },
  {
   "cell_type": "markdown",
   "metadata": {},
   "source": [
    "## Exercise 4: Functions with Multiple Parameters and Return Values\n",
    "\n",
    "Practice creating more complex functions with multiple inputs and outputs."
   ]
  },
  {
   "cell_type": "code",
   "execution_count": null,
   "metadata": {},
   "outputs": [],
   "source": [
    "# TODO: Create a function that calculates the roots of a quadratic equation\n",
    "\n",
    "# TODO: Implement a function that takes a list of numbers and returns\n",
    "# the minimum, maximum, and average\n",
    "\n",
    "# TODO: Write a function that converts between different units\n",
    "# (e.g., miles to kilometers, Celsius to Fahrenheit)\n",
    "\n",
    "# TODO: Create a function that takes a string and returns the number of\n",
    "# vowels, consonants, and special characters\n",
    "\n",
    "# Test each function with sample inputs and print the results\n"
   ]
  },
  {
   "cell_type": "markdown",
   "metadata": {},
   "source": [
    "## Exercise 5: Combining Functions and Conditional Statements\n",
    "\n",
    "Practice creating functions that incorporate conditional logic."
   ]
  },
  {
   "cell_type": "code",
   "execution_count": null,
   "metadata": {},
   "outputs": [],
   "source": [
    "# TODO: Create a function that determines if a number is positive, negative, or zero\n",
    "\n",
    "# TODO: Implement a function that calculates the factorial of a number\n",
    "# (use both iterative and recursive approaches)\n",
    "\n",
    "# TODO: Write a function that determines if a given year is a leap year\n",
    "\n",
    "# TODO: Create a function that validates a password based on certain criteria\n",
    "# (e.g., length, uppercase, lowercase, numbers, special characters)\n",
    "\n",
    "# Test each function with sample inputs and print the results\n"
   ]
  }
 ],
 "metadata": {
  "kernelspec": {
   "display_name": "Python 3",
   "language": "python",
   "name": "python3"
  },
  "language_info": {
   "codemirror_mode": {
    "name": "ipython",
    "version": 3
   },
   "file_extension": ".py",
   "mimetype": "text/x-python",
   "name": "python",
   "nbconvert_exporter": "python",
   "pygments_lexer": "ipython3",
   "version": "3.8.8"
  }
 },
 "nbformat": 4,
 "nbformat_minor": 4
}
